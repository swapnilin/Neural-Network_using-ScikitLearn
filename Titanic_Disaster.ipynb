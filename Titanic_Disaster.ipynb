{
 "cells": [
  {
   "cell_type": "markdown",
   "metadata": {},
   "source": [
    "# Neural Networks - Case Study II"
   ]
  },
  {
   "cell_type": "markdown",
   "metadata": {},
   "source": [
    "## Predicting Chances of Surviving the Titanic Disaster"
   ]
  },
  {
   "cell_type": "markdown",
   "metadata": {},
   "source": [
    "### Project Scope:\n",
    "\n",
    "The sinking of the Titanic is one of the most infamous shipwrecks in history.\n",
    "\n",
    "On April 15, 1912, during her maiden voyage, Titanic sank after colliding with an iceberg. Unfortunately, there weren’t enough lifeboats for everyone onboard, resulting in the death of 1502 out of 2224 passengers and crew.\n",
    "\n",
    "While there was some element of luck involved in surviving, it seems some groups of people were more likely to survive than others.\n",
    "\n",
    "**Your Role:**\n",
    "\n",
    "Build a predictive model that answers the question: “what sorts of people were more likely to survive?” using passenger data (ie name, age, gender, socio-economic class, etc).\n",
    "\n",
    "\n",
    "**Specifics:** \n",
    "\n",
    "* Machine Learning task: Classification model \n",
    "* Target variable: **survival** \n",
    "* Input variables: Refer to data dictionary below\n",
    "* Success Criteria: Accuracy of 80% and above"
   ]
  },
  {
   "cell_type": "markdown",
   "metadata": {},
   "source": [
    "### **Data Dictionary:**\n",
    "\n",
    "The dataset contains several parameters which were recorded about the passengers.\n",
    "The parameters included are : \n",
    "\n",
    "**PassengerId:** Passenger Identifier\\\n",
    "**Survived:** (0 = No, 1 = Yes) \\\n",
    "**Pclass:** - Passenger Class (1 = 1st, 2 = 2nd, 3 = 3rd) \\\n",
    "**Name** - Name of the Passenger\n",
    "**Sex:**  Gender of the passenger \\\n",
    "**Age:** Age in years  \\\n",
    "**SibSp:** No. of siblings / spouses aboard the Titanic \\\n",
    "**Parch:** No. of parents / children aboard the Titanic \\\n",
    "**Ticket:** Ticket Number \\\n",
    "**Fare:** Passenger Fare\\\n",
    "**Cabin:** Cabin - 'U' is for Unkown\\\n",
    "**Embarked:** Port of Embarkation (C = Cherbourg, Q = Queenstown, S = Southampton)"
   ]
  },
  {
   "cell_type": "markdown",
   "metadata": {},
   "source": [
    "### **Loading the libraries and the dataset**"
   ]
  },
  {
   "cell_type": "code",
   "execution_count": 88,
   "metadata": {},
   "outputs": [],
   "source": [
    "import numpy as np\n",
    "import pandas as pd\n",
    "import matplotlib.pyplot as plt\n",
    "import seaborn as sns\n",
    "\n",
    "\n",
    "import warnings\n",
    "warnings.filterwarnings(\"ignore\")\n",
    "\n",
    "from sklearn.ensemble import RandomForestClassifier\n",
    "from sklearn.neural_network import MLPClassifier"
   ]
  },
  {
   "cell_type": "code",
   "execution_count": null,
   "metadata": {},
   "outputs": [],
   "source": [
    "# load the train.csv file using the pandas `read_csv()` function. \n",
    "df = pd.read_csv('Titanic_train.csv')\n",
    "df.head()"
   ]
  },
  {
   "cell_type": "markdown",
   "metadata": {},
   "source": [
    "#### What features do you think contribute to a high survival rate ?"
   ]
  },
  {
   "cell_type": "code",
   "execution_count": 90,
   "metadata": {},
   "outputs": [],
   "source": [
    "# Drop the unnecessary ones\n"
   ]
  },
  {
   "cell_type": "code",
   "execution_count": null,
   "metadata": {},
   "outputs": [],
   "source": []
  },
  {
   "cell_type": "code",
   "execution_count": 145,
   "metadata": {},
   "outputs": [],
   "source": [
    "# explore the data quickly\n"
   ]
  },
  {
   "cell_type": "markdown",
   "metadata": {},
   "source": [
    "#### The training set has 891 examples and 11 features + the target variable (survived)."
   ]
  },
  {
   "cell_type": "code",
   "execution_count": 146,
   "metadata": {},
   "outputs": [],
   "source": [
    "# look at some summary stats\n"
   ]
  },
  {
   "cell_type": "markdown",
   "metadata": {},
   "source": [
    "**Observation:**\n",
    "* we can see that __ % out of the training-set survived the Titanic\n",
    "* Age of passengers is between __ & __ "
   ]
  },
  {
   "cell_type": "code",
   "execution_count": 147,
   "metadata": {},
   "outputs": [],
   "source": [
    "# check if passenger class has anything to do with survival. Plot a bar plot of Pclass vs Survived\n"
   ]
  },
  {
   "cell_type": "code",
   "execution_count": 148,
   "metadata": {},
   "outputs": [],
   "source": [
    "# calculate the correlation of all features with target variable\n"
   ]
  },
  {
   "cell_type": "markdown",
   "metadata": {},
   "source": [
    "### Data Prep Required\n",
    "\n",
    "1. convert object type features into numeric ones.\n",
    "2. features have different ranges, convert into roughly the same scale. \n",
    "3. Some features contain missing values (NaN = not a number) that need to be replaced."
   ]
  },
  {
   "cell_type": "code",
   "execution_count": 149,
   "metadata": {},
   "outputs": [],
   "source": [
    "# check for missing data\n"
   ]
  },
  {
   "cell_type": "code",
   "execution_count": 152,
   "metadata": {},
   "outputs": [],
   "source": [
    "# check distribution of Age\n"
   ]
  },
  {
   "cell_type": "code",
   "execution_count": 153,
   "metadata": {},
   "outputs": [],
   "source": [
    "# calculate mean 'age'\n"
   ]
  },
  {
   "cell_type": "code",
   "execution_count": 154,
   "metadata": {},
   "outputs": [],
   "source": [
    "# replace nan with 29. (Not Advised)\n"
   ]
  },
  {
   "cell_type": "code",
   "execution_count": 155,
   "metadata": {},
   "outputs": [],
   "source": [
    "# convert it to int type\n"
   ]
  },
  {
   "cell_type": "raw",
   "metadata": {},
   "source": []
  },
  {
   "cell_type": "code",
   "execution_count": 156,
   "metadata": {},
   "outputs": [],
   "source": [
    "# Create dummy variables for all 'object' type variables \n"
   ]
  },
  {
   "cell_type": "code",
   "execution_count": 157,
   "metadata": {},
   "outputs": [],
   "source": [
    "# saving this processed dataset. Use index=None\n"
   ]
  },
  {
   "cell_type": "markdown",
   "metadata": {
    "id": "kO38zz_lvQlb"
   },
   "source": [
    "### Data Partition"
   ]
  },
  {
   "cell_type": "code",
   "execution_count": 158,
   "metadata": {
    "id": "Pq-bHTPlJ2Fn"
   },
   "outputs": [],
   "source": [
    "# Seperate the input features and target variable\n"
   ]
  },
  {
   "cell_type": "markdown",
   "metadata": {
    "id": "B2kDu-VHJ2Fn"
   },
   "source": [
    "    "
   ]
  },
  {
   "cell_type": "code",
   "execution_count": 164,
   "metadata": {
    "id": "m4VrDseVJ2Fn"
   },
   "outputs": [],
   "source": [
    "# splitting the data in training and testing set\n"
   ]
  },
  {
   "cell_type": "code",
   "execution_count": null,
   "metadata": {
    "colab": {
     "base_uri": "https://localhost:8080/",
     "height": 0
    },
    "id": "SzRQ8H5EJ2Fo",
    "outputId": "e64adf59-88f3-4294-fc9e-339097ff6618"
   },
   "outputs": [],
   "source": []
  },
  {
   "cell_type": "markdown",
   "metadata": {},
   "source": [
    "    "
   ]
  },
  {
   "cell_type": "markdown",
   "metadata": {},
   "source": [
    "## **Models**"
   ]
  },
  {
   "cell_type": "code",
   "execution_count": 105,
   "metadata": {},
   "outputs": [],
   "source": [
    "# Import RandomForestClassifier \n",
    "from sklearn.ensemble import RandomForestClassifier"
   ]
  },
  {
   "cell_type": "code",
   "execution_count": 167,
   "metadata": {},
   "outputs": [],
   "source": [
    "# create an instance of the model and fit the model\n",
    "rfmodel = RandomForestClassifier(n_estimators=100, min_samples_leaf=5)\n",
    "rfmodel.fit(xtrain,ytrain)"
   ]
  },
  {
   "cell_type": "code",
   "execution_count": 165,
   "metadata": {},
   "outputs": [],
   "source": [
    "# get feature importance values\n",
    "rfmodel.feature_importances_"
   ]
  },
  {
   "cell_type": "code",
   "execution_count": 166,
   "metadata": {},
   "outputs": [],
   "source": [
    "# get feature names\n",
    "rfmodel.feature_names_in_"
   ]
  },
  {
   "cell_type": "code",
   "execution_count": null,
   "metadata": {},
   "outputs": [],
   "source": [
    "# plot a horizontal bar plot\n",
    "plt.figure(figsize=(7,8))\n",
    "plt.barh(rfmodel.feature_names_in_,rfmodel.feature_importances_)\n",
    "plt.title('Feature Importance Plot')\n",
    "plt.show()"
   ]
  },
  {
   "cell_type": "markdown",
   "metadata": {},
   "source": [
    "## Save Model"
   ]
  },
  {
   "cell_type": "code",
   "execution_count": 117,
   "metadata": {},
   "outputs": [],
   "source": [
    "# import pickle to save model\n",
    "import pickle"
   ]
  },
  {
   "cell_type": "code",
   "execution_count": 118,
   "metadata": {},
   "outputs": [],
   "source": [
    "# Save the trained model on the drive \n",
    "pickle.dump(rfmodel, open('Model','wb'))"
   ]
  },
  {
   "cell_type": "markdown",
   "metadata": {},
   "source": [
    "## Take away exercise\n",
    "\n",
    "* 1. Train a Neural Network on this dataset\n",
    "\n",
    "* 2. Load the saved model and use it on the test set to make predictions"
   ]
  },
  {
   "cell_type": "code",
   "execution_count": 144,
   "metadata": {},
   "outputs": [],
   "source": [
    "# Load the pickled model\n",
    "rfmodel = pickle.load(open('Model','rb'))"
   ]
  }
 ],
 "metadata": {
  "kernelspec": {
   "display_name": "Python 3",
   "language": "python",
   "name": "python3"
  },
  "language_info": {
   "codemirror_mode": {
    "name": "ipython",
    "version": 3
   },
   "file_extension": ".py",
   "mimetype": "text/x-python",
   "name": "python",
   "nbconvert_exporter": "python",
   "pygments_lexer": "ipython3",
   "version": "3.7.6"
  }
 },
 "nbformat": 4,
 "nbformat_minor": 4
}
